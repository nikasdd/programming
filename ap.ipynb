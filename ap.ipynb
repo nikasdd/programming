{
  "metadata": {
    "kernelspec": {
      "name": "python",
      "display_name": "Python (Pyodide)",
      "language": "python"
    },
    "language_info": {
      "name": ""
    }
  },
  "nbformat_minor": 4,
  "nbformat": 4,
  "cells": [
    {
      "cell_type": "code",
      "source": "def sum_of_list(input_list):\n    return sum(input_list)\ninput_list=[1,2,3,4]\noutput= sum_of_list(input_list)\nprint(output)",
      "metadata": {
        "trusted": true
      },
      "outputs": [],
      "execution_count": null
    },
    {
      "cell_type": "code",
      "source": "dict1={\"name\":\"nika\"}{key:value}\ninput_dict={\"name\":\"nika\",\"age\":21}\nkey = \"age\"\ndef check_key(dict1,key):\nreturn key in def1\nresult check_key(dict1,key)\nprint(result)\n",
      "metadata": {
        "trusted": true
      },
      "outputs": [],
      "execution_count": null
    },
    {
      "cell_type": "code",
      "source": "def reverse_string(input_string):\n   return input_string[::-1]\ninput_string:\"hello\"\noutput_string = reverse_string(input_string)\noutput_string\n",
      "metadata": {
        "trusted": true
      },
      "outputs": [],
      "execution_count": null
    },
    {
      "cell_type": "code",
      "source": "",
      "metadata": {
        "trusted": true
      },
      "outputs": [],
      "execution_count": null
    }
  ]
}